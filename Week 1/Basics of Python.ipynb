{
  "cells": [
    {
      "cell_type": "markdown",
      "metadata": {
        "id": "CJGn1Ud8c6Qn"
      },
      "source": [
        "#  WEEK 1 : BASICS OF PYTHON  "
      ]
    },
    {
      "cell_type": "markdown",
      "metadata": {
        "id": "293fdhg4ewna"
      },
      "source": [
        "## NUMBERS"
      ]
    },
    {
      "cell_type": "markdown",
      "metadata": {
        "id": "lv4mkEAiezdD"
      },
      "source": [
        "### The primary Python types for numbers are int and float.To put it simply, integers are whole numbers such as 31, 50, and 71.\n",
        "### Conversely, fractional numbers like 3.14, 2.867, and 76.88887 are known as floats."
      ]
    },
    {
      "cell_type": "markdown",
      "metadata": {
        "id": "llJTbUSHdBoV"
      },
      "source": [
        "Let's verify their data types by adding a few arbitrary numerical values."
      ]
    },
    {
      "cell_type": "code",
      "execution_count": null,
      "metadata": {
        "colab": {
          "base_uri": "https://localhost:8080/"
        },
        "id": "3JkZsnUTc3cW",
        "outputId": "53a98d39-c36c-44a4-9f52-82e4f5cdd8c8"
      },
      "outputs": [
        {
          "data": {
            "text/plain": [
              "int"
            ]
          },
          "execution_count": 3,
          "metadata": {},
          "output_type": "execute_result"
        }
      ],
      "source": [
        "type(30)"
      ]
    },
    {
      "cell_type": "code",
      "execution_count": null,
      "metadata": {
        "colab": {
          "base_uri": "https://localhost:8080/"
        },
        "id": "igUjElPMgWGx",
        "outputId": "3212171e-324f-4a67-c434-cb5b911b9d72"
      },
      "outputs": [
        {
          "data": {
            "text/plain": [
              "float"
            ]
          },
          "execution_count": 4,
          "metadata": {},
          "output_type": "execute_result"
        }
      ],
      "source": [
        "type(3.14)"
      ]
    },
    {
      "cell_type": "markdown",
      "metadata": {
        "id": "1qOQxzO6g3nn"
      },
      "source": [
        "The float and numeric values can be kept in a variable. Furthermore, there's no need to initialise the variable with any kind of data type.\n"
      ]
    },
    {
      "cell_type": "code",
      "execution_count": null,
      "metadata": {
        "colab": {
          "base_uri": "https://localhost:8080/"
        },
        "id": "aBv98bVJgy4l",
        "outputId": "629ce99c-6e30-43cf-a25d-08d1690d54d8"
      },
      "outputs": [
        {
          "data": {
            "text/plain": [
              "int"
            ]
          },
          "execution_count": 5,
          "metadata": {},
          "output_type": "execute_result"
        }
      ],
      "source": [
        "a = 10\n",
        "type(a)"
      ]
    },
    {
      "cell_type": "code",
      "execution_count": null,
      "metadata": {
        "colab": {
          "base_uri": "https://localhost:8080/"
        },
        "id": "MeBV8-MliIhe",
        "outputId": "d5b3d19b-eef8-47de-f824-fedd6099b78b"
      },
      "outputs": [
        {
          "data": {
            "text/plain": [
              "float"
            ]
          },
          "execution_count": 6,
          "metadata": {},
          "output_type": "execute_result"
        }
      ],
      "source": [
        "num = 10.2543\n",
        "type(num)"
      ]
    },
    {
      "cell_type": "markdown",
      "metadata": {
        "id": "CL6e68P4iS3z"
      },
      "source": [
        "able to apply simple mathematical operations\n"
      ]
    },
    {
      "cell_type": "code",
      "execution_count": null,
      "metadata": {
        "colab": {
          "base_uri": "https://localhost:8080/"
        },
        "id": "GjWyo3abiPvV",
        "outputId": "6f94be53-56cb-47dd-c67b-64b586d744e2"
      },
      "outputs": [
        {
          "data": {
            "text/plain": [
              "11"
            ]
          },
          "execution_count": 8,
          "metadata": {},
          "output_type": "execute_result"
        }
      ],
      "source": [
        "# Addition\n",
        "8+3"
      ]
    },
    {
      "cell_type": "code",
      "execution_count": null,
      "metadata": {
        "colab": {
          "base_uri": "https://localhost:8080/"
        },
        "id": "UIuwKHfdixAd",
        "outputId": "9c2ab139-9408-4530-833b-aea9b0d97c01"
      },
      "outputs": [
        {
          "data": {
            "text/plain": [
              "5"
            ]
          },
          "execution_count": 9,
          "metadata": {},
          "output_type": "execute_result"
        }
      ],
      "source": [
        "#Substraction\n",
        "8-3"
      ]
    },
    {
      "cell_type": "code",
      "execution_count": null,
      "metadata": {
        "colab": {
          "base_uri": "https://localhost:8080/"
        },
        "id": "A5ans_dBi3Qp",
        "outputId": "728ed7bd-66ad-4eed-d898-a335b7a04f9c"
      },
      "outputs": [
        {
          "data": {
            "text/plain": [
              "24"
            ]
          },
          "execution_count": 10,
          "metadata": {},
          "output_type": "execute_result"
        }
      ],
      "source": [
        "#Multiplication\n",
        "8*3"
      ]
    },
    {
      "cell_type": "code",
      "execution_count": null,
      "metadata": {
        "colab": {
          "base_uri": "https://localhost:8080/"
        },
        "id": "fBQRitbjjAro",
        "outputId": "63be8d45-640b-4620-fdf8-dbdbbe15c465"
      },
      "outputs": [
        {
          "data": {
            "text/plain": [
              "2.6666666666666665"
            ]
          },
          "execution_count": 11,
          "metadata": {},
          "output_type": "execute_result"
        }
      ],
      "source": [
        "#Division\n",
        "8/3"
      ]
    },
    {
      "cell_type": "markdown",
      "metadata": {
        "id": "PjuZE1H_jFsp"
      },
      "source": []
    },
    {
      "cell_type": "code",
      "execution_count": null,
      "metadata": {
        "colab": {
          "base_uri": "https://localhost:8080/"
        },
        "id": "BIAQNgjtjCtS",
        "outputId": "f9551e0c-03bd-4a0a-f419-d34f2f0048cb"
      },
      "outputs": [
        {
          "data": {
            "text/plain": [
              "512"
            ]
          },
          "execution_count": 12,
          "metadata": {},
          "output_type": "execute_result"
        }
      ],
      "source": [
        "#Power\n",
        "8**3"
      ]
    },
    {
      "cell_type": "code",
      "execution_count": null,
      "metadata": {
        "colab": {
          "base_uri": "https://localhost:8080/"
        },
        "id": "oJvWJb9zujJx",
        "outputId": "e2181f73-1db9-41a6-a231-bd4eed883257"
      },
      "outputs": [
        {
          "name": "stdout",
          "output_type": "stream",
          "text": [
            "5\n",
            "17\n"
          ]
        }
      ],
      "source": [
        "#parantheis precedence\n",
        "num1 = (15+62)%12\n",
        "num2 = 15 + 62 % 12\n",
        "print(num1)\n",
        "print(num2)"
      ]
    },
    {
      "cell_type": "markdown",
      "metadata": {
        "id": "en91QBQvuCju"
      },
      "source": [
        "There's a special operator called modulus which returns the remainder after integer di"
      ]
    },
    {
      "cell_type": "code",
      "execution_count": null,
      "metadata": {
        "colab": {
          "base_uri": "https://localhost:8080/"
        },
        "id": "eMW_9l3WjOWK",
        "outputId": "3dc9151e-c64e-4075-bc56-94f11cd0b0a7"
      },
      "outputs": [
        {
          "data": {
            "text/plain": [
              "2"
            ]
          },
          "execution_count": 14,
          "metadata": {},
          "output_type": "execute_result"
        }
      ],
      "source": [
        "#Modulus\n",
        "8%3"
      ]
    },
    {
      "cell_type": "markdown",
      "metadata": {
        "id": "W6I8qNBcjWy7"
      },
      "source": [
        "Another way to execute the arithmetic operation is to initialise it into a few variables and then work with it."
      ]
    },
    {
      "cell_type": "code",
      "execution_count": null,
      "metadata": {
        "colab": {
          "base_uri": "https://localhost:8080/"
        },
        "id": "KFUI0FBXjUZJ",
        "outputId": "f9a5c831-32a9-48d1-f490-ccef7a311065"
      },
      "outputs": [
        {
          "name": "stdout",
          "output_type": "stream",
          "text": [
            "30\n"
          ]
        }
      ],
      "source": [
        "num1 = 15\n",
        "num2 = 15\n",
        "sum = num1+num2\n",
        "print(sum)"
      ]
    },
    {
      "cell_type": "code",
      "execution_count": null,
      "metadata": {
        "colab": {
          "base_uri": "https://localhost:8080/"
        },
        "id": "U5soVCZ7vEwl",
        "outputId": "9ff798ee-4fff-46e5-ebed-6b274c9cbdb4"
      },
      "outputs": [
        {
          "name": "stdout",
          "output_type": "stream",
          "text": [
            "16\n"
          ]
        }
      ],
      "source": [
        "num1 = 15\n",
        "num1 = num1 + 1\n",
        "print(num1)"
      ]
    },
    {
      "cell_type": "markdown",
      "metadata": {
        "id": "JxP7LQH9vZG0"
      },
      "source": [
        "The above code can be simplified and written as"
      ]
    },
    {
      "cell_type": "code",
      "execution_count": null,
      "metadata": {
        "colab": {
          "base_uri": "https://localhost:8080/"
        },
        "id": "rJ0mSjz7vQNv",
        "outputId": "48d749e5-3076-4d39-ed11-6ab60e8b61ef"
      },
      "outputs": [
        {
          "name": "stdout",
          "output_type": "stream",
          "text": [
            "16\n"
          ]
        }
      ],
      "source": [
        "num1 = 15\n",
        "num1 = num1 + 1\n",
        "print(num1)"
      ]
    },
    {
      "cell_type": "markdown",
      "metadata": {
        "id": "W43REFI0vnjt"
      },
      "source": [
        "## STRINGS"
      ]
    },
    {
      "cell_type": "markdown",
      "metadata": {
        "id": "CMN6F0VcvyLC"
      },
      "source": [
        "### In Python, a string is a type of data structure that holds a string of characters. Since it is an immutable data type, you are unable to alter a string after you have created it.\n",
        "### In python you can also add numeric values or symbols in a quotes of the string.\n",
        "### Python is able to recognize single quotes and double quoted at the beginning and the ending of the string"
      ]
    },
    {
      "cell_type": "code",
      "execution_count": null,
      "metadata": {
        "colab": {
          "base_uri": "https://localhost:8080/",
          "height": 36
        },
        "id": "F5Rth6USve4u",
        "outputId": "b2f8beb6-2d9e-4881-e8ae-393bca30c45c"
      },
      "outputs": [
        {
          "data": {
            "application/vnd.google.colaboratory.intrinsic+json": {
              "type": "string"
            },
            "text/plain": [
              "'Hello World'"
            ]
          },
          "execution_count": 27,
          "metadata": {},
          "output_type": "execute_result"
        }
      ],
      "source": [
        "\"Hello World\""
      ]
    },
    {
      "cell_type": "markdown",
      "metadata": {
        "id": "Tu9E5lNnxSG3"
      },
      "source": [
        "Here it is able to recognize the question mark and comma as a string"
      ]
    },
    {
      "cell_type": "code",
      "execution_count": null,
      "metadata": {
        "colab": {
          "base_uri": "https://localhost:8080/",
          "height": 36
        },
        "id": "F9UmbXiRwp9p",
        "outputId": "de1e5474-5774-47d1-bb74-8f7faec4577f"
      },
      "outputs": [
        {
          "data": {
            "application/vnd.google.colaboratory.intrinsic+json": {
              "type": "string"
            },
            "text/plain": [
              "'Hey, How are you ?'"
            ]
          },
          "execution_count": 34,
          "metadata": {},
          "output_type": "execute_result"
        }
      ],
      "source": [
        "\"Hey, How are you ?\""
      ]
    },
    {
      "cell_type": "markdown",
      "metadata": {
        "id": "S29Wl_gxxUlh"
      },
      "source": [
        "We are able to perform the join operations of string i.e concatenation of the strings as well by storing it into the variables."
      ]
    },
    {
      "cell_type": "code",
      "execution_count": null,
      "metadata": {
        "colab": {
          "base_uri": "https://localhost:8080/",
          "height": 36
        },
        "id": "-1E89pmTw823",
        "outputId": "9e2a796a-3727-402f-e649-1aa202b5bc28"
      },
      "outputs": [
        {
          "data": {
            "application/vnd.google.colaboratory.intrinsic+json": {
              "type": "string"
            },
            "text/plain": [
              "'firstlast'"
            ]
          },
          "execution_count": 37,
          "metadata": {},
          "output_type": "execute_result"
        }
      ],
      "source": [
        "a = 'first'\n",
        "b = 'last'\n",
        "a+b"
      ]
    },
    {
      "cell_type": "markdown",
      "metadata": {
        "id": "XUoY0Fegx7F7"
      },
      "source": [
        "If you want a space between the two words, you can simply add a space in the string instead of the character."
      ]
    },
    {
      "cell_type": "code",
      "execution_count": null,
      "metadata": {
        "colab": {
          "base_uri": "https://localhost:8080/",
          "height": 36
        },
        "id": "4sm5CuDFxyVT",
        "outputId": "fe301bab-5040-410b-e1cd-059e29997f2e"
      },
      "outputs": [
        {
          "data": {
            "application/vnd.google.colaboratory.intrinsic+json": {
              "type": "string"
            },
            "text/plain": [
              "'first last'"
            ]
          },
          "execution_count": 38,
          "metadata": {},
          "output_type": "execute_result"
        }
      ],
      "source": [
        "a = 'first '\n",
        "b = 'last'\n",
        "a+b"
      ]
    },
    {
      "cell_type": "markdown",
      "metadata": {
        "id": "Un4j21X-yQoD"
      },
      "source": [
        "There are different string method you can use such as upper(),lower(),\n",
        "replace(),count()"
      ]
    },
    {
      "cell_type": "markdown",
      "metadata": {
        "id": "kTxm2g2UylSw"
      },
      "source": [
        "upper() changes the whole string into uppercase letters."
      ]
    },
    {
      "cell_type": "code",
      "execution_count": null,
      "metadata": {
        "colab": {
          "base_uri": "https://localhost:8080/",
          "height": 36
        },
        "id": "JLsowfvdyMit",
        "outputId": "a96f7b77-dd45-4b1d-eb6a-b01624ae1357"
      },
      "outputs": [
        {
          "data": {
            "application/vnd.google.colaboratory.intrinsic+json": {
              "type": "string"
            },
            "text/plain": [
              "'HELLO'"
            ]
          },
          "execution_count": 40,
          "metadata": {},
          "output_type": "execute_result"
        }
      ],
      "source": [
        "Str = 'Hello'\n",
        "Str.upper()"
      ]
    },
    {
      "cell_type": "markdown",
      "metadata": {
        "id": "iw359jeuzD0u"
      },
      "source": [
        "lower() changes the whole string into lowercase letters."
      ]
    },
    {
      "cell_type": "code",
      "execution_count": null,
      "metadata": {
        "colab": {
          "base_uri": "https://localhost:8080/",
          "height": 36
        },
        "id": "dDoiY0EyzAAt",
        "outputId": "c7718bb6-3f18-437f-d1c9-13dd125e92ab"
      },
      "outputs": [
        {
          "data": {
            "application/vnd.google.colaboratory.intrinsic+json": {
              "type": "string"
            },
            "text/plain": [
              "'hello'"
            ]
          },
          "execution_count": 41,
          "metadata": {},
          "output_type": "execute_result"
        }
      ],
      "source": [
        "Str = 'HELLO'\n",
        "Str.lower()"
      ]
    },
    {
      "cell_type": "markdown",
      "metadata": {
        "id": "oGVfEsmyz6Hj"
      },
      "source": [
        "replace() is a function with the help of which we are able to replace any character with another character"
      ]
    },
    {
      "cell_type": "code",
      "execution_count": null,
      "metadata": {
        "colab": {
          "base_uri": "https://localhost:8080/",
          "height": 36
        },
        "id": "lDN0dmFgzKrE",
        "outputId": "ca22787b-a8c4-4f58-a2b1-6b709774d3e7"
      },
      "outputs": [
        {
          "data": {
            "application/vnd.google.colaboratory.intrinsic+json": {
              "type": "string"
            },
            "text/plain": [
              "'gaa'"
            ]
          },
          "execution_count": 42,
          "metadata": {},
          "output_type": "execute_result"
        }
      ],
      "source": [
        "Str = 'goo'\n",
        "Str.replace('o','a')"
      ]
    },
    {
      "cell_type": "markdown",
      "metadata": {
        "id": "VrYQdbVJDIjM"
      },
      "source": [
        "count() function let's us know the exact count of the appearance of any word in a string"
      ]
    },
    {
      "cell_type": "code",
      "execution_count": null,
      "metadata": {
        "colab": {
          "base_uri": "https://localhost:8080/"
        },
        "id": "v7gmIE6VDGBr",
        "outputId": "b326f6af-c131-42c0-fd92-8c4165232e0b"
      },
      "outputs": [
        {
          "data": {
            "text/plain": [
              "3"
            ]
          },
          "execution_count": 43,
          "metadata": {},
          "output_type": "execute_result"
        }
      ],
      "source": [
        "num_list = ['one','two','one','two','two']\n",
        "num_list.count('two')"
      ]
    },
    {
      "cell_type": "markdown",
      "metadata": {
        "id": "QpF06bg5Dk7K"
      },
      "source": [
        "format() method is been used for add some word or strings into a larger string at any particular index."
      ]
    },
    {
      "cell_type": "code",
      "execution_count": null,
      "metadata": {
        "colab": {
          "base_uri": "https://localhost:8080/",
          "height": 36
        },
        "id": "e7OAo3qvDgTK",
        "outputId": "ec86be9b-8dc3-4394-e9f3-f843234422c9"
      },
      "outputs": [
        {
          "data": {
            "application/vnd.google.colaboratory.intrinsic+json": {
              "type": "string"
            },
            "text/plain": [
              "'Hey!!, How are you?'"
            ]
          },
          "execution_count": 45,
          "metadata": {},
          "output_type": "execute_result"
        }
      ],
      "source": [
        "Str = \"{0}, How are {1}?\".format(\"Hey!!\",\"you\")\n",
        "Str"
      ]
    },
    {
      "cell_type": "markdown",
      "metadata": {
        "id": "TZuLKM7WEGtO"
      },
      "source": [
        "# BOOLEANS"
      ]
    },
    {
      "cell_type": "markdown",
      "metadata": {
        "id": "pfLdoiM_ELW8"
      },
      "source": [
        "### Boolean values are simply the True or False"
      ]
    },
    {
      "cell_type": "markdown",
      "metadata": {
        "id": "WjMoNvyaERcA"
      },
      "source": [
        "\n",
        "\n",
        "\n",
        "### With the help of booloeans, we can verify the intergers as well as the strings are correct or not, or else we can compare to\n",
        "\n",
        "\n"
      ]
    },
    {
      "cell_type": "markdown",
      "metadata": {
        "id": "qt9iofh2E8x-"
      },
      "source": [
        "integer"
      ]
    },
    {
      "cell_type": "code",
      "execution_count": null,
      "metadata": {
        "colab": {
          "base_uri": "https://localhost:8080/"
        },
        "id": "YD8V4xXrEBGj",
        "outputId": "c2f7dc69-f3e6-43bb-ef28-2917fb939241"
      },
      "outputs": [
        {
          "data": {
            "text/plain": [
              "True"
            ]
          },
          "execution_count": 46,
          "metadata": {},
          "output_type": "execute_result"
        }
      ],
      "source": [
        "100==100"
      ]
    },
    {
      "cell_type": "code",
      "execution_count": null,
      "metadata": {
        "colab": {
          "base_uri": "https://localhost:8080/"
        },
        "id": "FpfrfrPzEpt_",
        "outputId": "8c8d8290-a6e4-49a9-88d4-a137e82c0b20"
      },
      "outputs": [
        {
          "data": {
            "text/plain": [
              "False"
            ]
          },
          "execution_count": 48,
          "metadata": {},
          "output_type": "execute_result"
        }
      ],
      "source": [
        "10==11"
      ]
    },
    {
      "cell_type": "markdown",
      "metadata": {
        "id": "QCUp9wWnEtzT"
      },
      "source": [
        "we can also do with variables"
      ]
    },
    {
      "cell_type": "code",
      "execution_count": null,
      "metadata": {
        "colab": {
          "base_uri": "https://localhost:8080/"
        },
        "id": "FI_u9FkxErYW",
        "outputId": "f43b28f4-6e28-48a3-8036-6205b7c1a76f"
      },
      "outputs": [
        {
          "data": {
            "text/plain": [
              "True"
            ]
          },
          "execution_count": 49,
          "metadata": {},
          "output_type": "execute_result"
        }
      ],
      "source": [
        "a = 10\n",
        "b = 10\n",
        "a==b"
      ]
    },
    {
      "cell_type": "markdown",
      "metadata": {
        "id": "ptt5vz4EE4E9"
      },
      "source": [
        "string"
      ]
    },
    {
      "cell_type": "code",
      "execution_count": null,
      "metadata": {
        "colab": {
          "base_uri": "https://localhost:8080/"
        },
        "id": "X0z5XVcyE2K9",
        "outputId": "1a758cf4-295d-4269-be58-9e0ec7df1d29"
      },
      "outputs": [
        {
          "data": {
            "text/plain": [
              "True"
            ]
          },
          "execution_count": 50,
          "metadata": {},
          "output_type": "execute_result"
        }
      ],
      "source": [
        "\"hey\"==\"hey\""
      ]
    },
    {
      "cell_type": "code",
      "execution_count": null,
      "metadata": {
        "colab": {
          "base_uri": "https://localhost:8080/"
        },
        "id": "iY0GM6o-FBqH",
        "outputId": "0944e25a-6108-493e-ec7e-32008b3e5268"
      },
      "outputs": [
        {
          "data": {
            "text/plain": [
              "False"
            ]
          },
          "execution_count": 51,
          "metadata": {},
          "output_type": "execute_result"
        }
      ],
      "source": [
        "a = \"hello\"\n",
        "b = \"hey\"\n",
        "a==b"
      ]
    },
    {
      "cell_type": "markdown",
      "metadata": {
        "id": "NBuDIZGtFVPf"
      },
      "source": [
        "using with Comparison operators like -  <\n",
        ", > , <= , >=\n",
        "\n",
        "\n",
        "\n"
      ]
    },
    {
      "cell_type": "code",
      "execution_count": null,
      "metadata": {
        "colab": {
          "base_uri": "https://localhost:8080/"
        },
        "id": "0kDTX2cUFTxH",
        "outputId": "9fec4de4-98a0-4c4d-bf58-1c1f8d4d8000"
      },
      "outputs": [
        {
          "data": {
            "text/plain": [
              "True"
            ]
          },
          "execution_count": 52,
          "metadata": {},
          "output_type": "execute_result"
        }
      ],
      "source": [
        "10<11"
      ]
    },
    {
      "cell_type": "code",
      "execution_count": null,
      "metadata": {
        "colab": {
          "base_uri": "https://localhost:8080/"
        },
        "id": "wTBcZ_FNFqSD",
        "outputId": "d31c2e42-c6cb-4444-94f2-7af29af62370"
      },
      "outputs": [
        {
          "data": {
            "text/plain": [
              "False"
            ]
          },
          "execution_count": 53,
          "metadata": {},
          "output_type": "execute_result"
        }
      ],
      "source": [
        "12>14"
      ]
    },
    {
      "cell_type": "code",
      "execution_count": null,
      "metadata": {
        "colab": {
          "base_uri": "https://localhost:8080/"
        },
        "id": "qQk2x-UhFttl",
        "outputId": "3c0fadf8-6330-4d73-e555-b857e11ecabd"
      },
      "outputs": [
        {
          "data": {
            "text/plain": [
              "True"
            ]
          },
          "execution_count": 54,
          "metadata": {},
          "output_type": "execute_result"
        }
      ],
      "source": [
        "10<=10"
      ]
    },
    {
      "cell_type": "code",
      "execution_count": null,
      "metadata": {
        "colab": {
          "base_uri": "https://localhost:8080/"
        },
        "id": "qSnNVmh8F29r",
        "outputId": "4fb430f3-2882-40f2-80eb-518f3c475087"
      },
      "outputs": [
        {
          "data": {
            "text/plain": [
              "True"
            ]
          },
          "execution_count": 56,
          "metadata": {},
          "output_type": "execute_result"
        }
      ],
      "source": [
        "12>=11"
      ]
    },
    {
      "cell_type": "markdown",
      "metadata": {
        "id": "ZJ8-3i3UGAhx"
      },
      "source": [
        "we can also compare the strings."
      ]
    },
    {
      "cell_type": "code",
      "execution_count": null,
      "metadata": {
        "colab": {
          "base_uri": "https://localhost:8080/"
        },
        "id": "fHJhVME5F5zv",
        "outputId": "7c2ef4fc-feea-4bc7-e576-dad780864b7c"
      },
      "outputs": [
        {
          "data": {
            "text/plain": [
              "True"
            ]
          },
          "execution_count": 57,
          "metadata": {},
          "output_type": "execute_result"
        }
      ],
      "source": [
        "\"hey\">=\"hey\""
      ]
    },
    {
      "cell_type": "code",
      "execution_count": null,
      "metadata": {
        "colab": {
          "base_uri": "https://localhost:8080/"
        },
        "id": "HHIg9ISNGGY7",
        "outputId": "856579ba-c41a-445a-c28a-728c29e43aba"
      },
      "outputs": [
        {
          "data": {
            "text/plain": [
              "False"
            ]
          },
          "execution_count": 58,
          "metadata": {},
          "output_type": "execute_result"
        }
      ],
      "source": [
        "\"hey\"<=\"hello\""
      ]
    },
    {
      "cell_type": "code",
      "execution_count": null,
      "metadata": {
        "id": "J5rjEpNpGMuZ"
      },
      "outputs": [],
      "source": []
    },
    {
      "cell_type": "markdown",
      "metadata": {
        "id": "8h8A2eWcGPd_"
      },
      "source": [
        "# COLLECTIONS"
      ]
    },
    {
      "cell_type": "markdown",
      "metadata": {
        "id": "ikACwLuqGVQ-"
      },
      "source": [
        "### Collection is nothing but a data structure where we can store multiple values.\n",
        "### Collections include\n",
        "*   List\n",
        "*   Dictionary\n",
        "\n",
        "\n"
      ]
    },
    {
      "cell_type": "markdown",
      "metadata": {
        "id": "3EJXfRhcG1DU"
      },
      "source": [
        "### List"
      ]
    },
    {
      "cell_type": "markdown",
      "metadata": {
        "id": "xacXnvgQG6Lw"
      },
      "source": [
        "#### list is a container which holds multiples values.\n",
        "#### list can accept multiple values of different data type"
      ]
    },
    {
      "cell_type": "code",
      "execution_count": null,
      "metadata": {
        "colab": {
          "base_uri": "https://localhost:8080/"
        },
        "id": "V-BtD9zbGUFL",
        "outputId": "76473839-4bb0-48d1-99cb-8ea146a5b224"
      },
      "outputs": [
        {
          "data": {
            "text/plain": [
              "['Amit', 'Aman', 'Vineet', 'Saniya']"
            ]
          },
          "execution_count": 59,
          "metadata": {},
          "output_type": "execute_result"
        }
      ],
      "source": [
        "Name = ['Amit','Aman','Vineet','Saniya']\n",
        "Name"
      ]
    },
    {
      "cell_type": "markdown",
      "metadata": {
        "id": "ZAjiLVnMHbMa"
      },
      "source": [
        "To fetch any particular element from the list, we need to get its associated index. Remember, the index value of the list starts with 0, never with 1."
      ]
    },
    {
      "cell_type": "markdown",
      "metadata": {
        "id": "SwXDs74YIBrA"
      },
      "source": [
        "For the fetching, we just need to write the list name along with the square brackets in which the index value will be added to get the desired element."
      ]
    },
    {
      "cell_type": "code",
      "execution_count": null,
      "metadata": {
        "colab": {
          "base_uri": "https://localhost:8080/",
          "height": 36
        },
        "id": "lXQDoZ0sHZhg",
        "outputId": "5d6360b2-89b0-4678-e674-9bcdc02e0872"
      },
      "outputs": [
        {
          "data": {
            "application/vnd.google.colaboratory.intrinsic+json": {
              "type": "string"
            },
            "text/plain": [
              "'Vineet'"
            ]
          },
          "execution_count": 61,
          "metadata": {},
          "output_type": "execute_result"
        }
      ],
      "source": [
        "#lets fetch the name vineet as he is at the index 2 starting the with zero.\n",
        "\n",
        "Name[2]"
      ]
    },
    {
      "cell_type": "markdown",
      "metadata": {
        "id": "rc53miRnLiz_"
      },
      "source": [
        "To keep track of the length of the list, i.e., to see how many elements have been added, the len() function has been used."
      ]
    },
    {
      "cell_type": "code",
      "execution_count": null,
      "metadata": {
        "colab": {
          "base_uri": "https://localhost:8080/"
        },
        "id": "2eztq9gyH1w_",
        "outputId": "76118ec2-e348-40e6-902e-34ef477c5c54"
      },
      "outputs": [
        {
          "data": {
            "text/plain": [
              "4"
            ]
          },
          "execution_count": 63,
          "metadata": {},
          "output_type": "execute_result"
        }
      ],
      "source": [
        "len(Name)"
      ]
    },
    {
      "cell_type": "markdown",
      "metadata": {
        "id": "w3C6RdUiMX94"
      },
      "source": [
        "The append() function is used for adding an element to the last of the list."
      ]
    },
    {
      "cell_type": "code",
      "execution_count": null,
      "metadata": {
        "id": "T2Sq-iA8MS0I"
      },
      "outputs": [],
      "source": [
        "Name.append(\"Hina\")"
      ]
    },
    {
      "cell_type": "code",
      "execution_count": null,
      "metadata": {
        "colab": {
          "base_uri": "https://localhost:8080/"
        },
        "id": "SyWXID5OMj0X",
        "outputId": "31966491-7953-4f6b-c9e6-694d6d6fa26a"
      },
      "outputs": [
        {
          "data": {
            "text/plain": [
              "['Amit', 'Aman', 'Vineet', 'Saniya', 'Hina']"
            ]
          },
          "execution_count": 66,
          "metadata": {},
          "output_type": "execute_result"
        }
      ],
      "source": [
        "Name"
      ]
    },
    {
      "cell_type": "markdown",
      "metadata": {
        "id": "9ZOFFDyxMpGK"
      },
      "source": [
        "for checking whether the element is present or not in the list, without any loop"
      ]
    },
    {
      "cell_type": "code",
      "execution_count": null,
      "metadata": {
        "colab": {
          "base_uri": "https://localhost:8080/"
        },
        "id": "ks4i6Pq2Mmc9",
        "outputId": "0a5958e2-4461-4bed-d369-582382f85236"
      },
      "outputs": [
        {
          "data": {
            "text/plain": [
              "True"
            ]
          },
          "execution_count": 67,
          "metadata": {},
          "output_type": "execute_result"
        }
      ],
      "source": [
        "'Hina' in Name"
      ]
    },
    {
      "cell_type": "markdown",
      "metadata": {
        "id": "6PiChlpeEHyw"
      },
      "source": [
        "### Dictionaries"
      ]
    },
    {
      "cell_type": "markdown",
      "metadata": {
        "id": "0Wlvd0vQEQbe"
      },
      "source": [
        "#### A dictionary optimises element lookups. It uses a key or value instead of numbers as placeholders."
      ]
    },
    {
      "cell_type": "code",
      "execution_count": 1,
      "metadata": {
        "id": "j-TKOZ32M70p"
      },
      "outputs": [],
      "source": [
        "#lets create a dictionary\n",
        "Dict = {'Banana':'yellow','apple':'red','orange':'orange'}"
      ]
    },
    {
      "cell_type": "code",
      "execution_count": 2,
      "metadata": {
        "colab": {
          "base_uri": "https://localhost:8080/"
        },
        "id": "CGyzhkqxQmK6",
        "outputId": "6bd89557-41e6-4ba6-bd0d-6fa2188b9218"
      },
      "outputs": [
        {
          "data": {
            "text/plain": [
              "{'Banana': 'yellow', 'apple': 'red', 'orange': 'orange'}"
            ]
          },
          "execution_count": 2,
          "metadata": {},
          "output_type": "execute_result"
        }
      ],
      "source": [
        "Dict"
      ]
    },
    {
      "cell_type": "markdown",
      "metadata": {
        "id": "ysxEVMO3QpDv"
      },
      "source": [
        "If we ever want to fetch any value of the key, we just need to write the dictionary name and then continue with the square bracket in which the key is passed."
      ]
    },
    {
      "cell_type": "code",
      "execution_count": 3,
      "metadata": {
        "colab": {
          "base_uri": "https://localhost:8080/",
          "height": 36
        },
        "id": "tFvwLd5lQnte",
        "outputId": "19636c5d-c004-462c-e998-7ffdab095599"
      },
      "outputs": [
        {
          "data": {
            "application/vnd.google.colaboratory.intrinsic+json": {
              "type": "string"
            },
            "text/plain": [
              "'yellow'"
            ]
          },
          "execution_count": 3,
          "metadata": {},
          "output_type": "execute_result"
        }
      ],
      "source": [
        "Dict['Banana']"
      ]
    },
    {
      "cell_type": "markdown",
      "metadata": {
        "id": "zROsGYkbRBrE"
      },
      "source": [
        "A dictionary can also work with the numbers."
      ]
    },
    {
      "cell_type": "code",
      "execution_count": 5,
      "metadata": {
        "colab": {
          "base_uri": "https://localhost:8080/"
        },
        "id": "TTRz51iXQ_pq",
        "outputId": "112bc81a-c453-471b-e446-1c810c5029a7"
      },
      "outputs": [
        {
          "data": {
            "text/plain": [
              "{'one': 1, 'two': 2}"
            ]
          },
          "execution_count": 5,
          "metadata": {},
          "output_type": "execute_result"
        }
      ],
      "source": [
        "dict = {'one':1,'two':2}\n",
        "dict"
      ]
    },
    {
      "cell_type": "code",
      "execution_count": 7,
      "metadata": {
        "colab": {
          "base_uri": "https://localhost:8080/"
        },
        "id": "It6gk-KnRQXC",
        "outputId": "18551e92-24bb-4835-be69-8b9499a6c168"
      },
      "outputs": [
        {
          "data": {
            "text/plain": [
              "1"
            ]
          },
          "execution_count": 7,
          "metadata": {},
          "output_type": "execute_result"
        }
      ],
      "source": [
        "dict['one']"
      ]
    },
    {
      "cell_type": "markdown",
      "metadata": {
        "id": "bKt_ZkfPRU1Z"
      },
      "source": [
        "There are some functions that are mostly used in the dictionary.\n",
        "They are keys() and values()."
      ]
    },
    {
      "cell_type": "markdown",
      "metadata": {
        "id": "N1UvmT0wRsuv"
      },
      "source": [
        "Keys(): It is a function that gives all the keys present in the dictionary."
      ]
    },
    {
      "cell_type": "code",
      "execution_count": 8,
      "metadata": {
        "colab": {
          "base_uri": "https://localhost:8080/"
        },
        "id": "lMVJBQQHRTxs",
        "outputId": "3a3c573b-31ce-4d7e-b312-9255a813ffe6"
      },
      "outputs": [
        {
          "data": {
            "text/plain": [
              "dict_keys(['one', 'two'])"
            ]
          },
          "execution_count": 8,
          "metadata": {},
          "output_type": "execute_result"
        }
      ],
      "source": [
        "dict.keys()"
      ]
    },
    {
      "cell_type": "markdown",
      "metadata": {
        "id": "tHtk9JyVR9SQ"
      },
      "source": [
        "values(): It is a function that gives all the values present in the dictionary."
      ]
    },
    {
      "cell_type": "code",
      "execution_count": 9,
      "metadata": {
        "colab": {
          "base_uri": "https://localhost:8080/"
        },
        "id": "-bNdTr1UR63X",
        "outputId": "5a0d899e-ae38-46dd-981f-a8071fe0f941"
      },
      "outputs": [
        {
          "data": {
            "text/plain": [
              "dict_values([1, 2])"
            ]
          },
          "execution_count": 9,
          "metadata": {},
          "output_type": "execute_result"
        }
      ],
      "source": [
        "dict.values()"
      ]
    },
    {
      "cell_type": "markdown",
      "metadata": {
        "id": "zf1nDYT6SHwp"
      },
      "source": [
        "# CONTROL STATEMENTS"
      ]
    },
    {
      "cell_type": "markdown",
      "metadata": {
        "id": "kr2nyYBpSL32"
      },
      "source": [
        "### Control statements are nothing but a condition checker, i.e., they mainly check whether the condition is being fulfilled or not.\n",
        "### There are various control statements, like:\n",
        "\n",
        "\n",
        "### * if statement\n",
        "\n",
        "\n",
        "### * if-else statement\n",
        "\n",
        "\n",
        "### * if-elif-else staement\n",
        "### Also the control statement consist of the loops like :\n",
        "\n",
        "### *   for loop\n",
        "### *   while loop\n",
        "\n",
        "\n",
        "\n",
        "\n",
        "\n",
        "\n",
        "\n"
      ]
    },
    {
      "cell_type": "markdown",
      "metadata": {
        "id": "Fnq_EfcdTMdK"
      },
      "source": [
        "### if statement"
      ]
    },
    {
      "cell_type": "markdown",
      "metadata": {
        "id": "0_gstHS0TQ1U"
      },
      "source": [
        "#### It is a statement that is mainly used to check whether the condition is true."
      ]
    },
    {
      "cell_type": "code",
      "execution_count": 13,
      "metadata": {
        "colab": {
          "base_uri": "https://localhost:8080/"
        },
        "id": "vM4pqAiZSCBU",
        "outputId": "6050c44c-0896-488d-a9a9-9736a55bb6fd"
      },
      "outputs": [
        {
          "name": "stdout",
          "output_type": "stream",
          "text": [
            "The number is 10\n"
          ]
        }
      ],
      "source": [
        "num = 10\n",
        "if num==10:\n",
        "  print(\"The number is 10\")"
      ]
    },
    {
      "cell_type": "markdown",
      "metadata": {
        "id": "HMhlUpo6Tu33"
      },
      "source": [
        "### if-else statement"
      ]
    },
    {
      "cell_type": "markdown",
      "metadata": {
        "id": "gykdaBjTTzCz"
      },
      "source": [
        "#### It is a statement in which the if statement gets false, then the else statement gets executed."
      ]
    },
    {
      "cell_type": "code",
      "execution_count": 14,
      "metadata": {
        "colab": {
          "base_uri": "https://localhost:8080/"
        },
        "id": "2FXbDK1ATs62",
        "outputId": "50b9c508-c963-4984-a46e-9b7510296edf"
      },
      "outputs": [
        {
          "name": "stdout",
          "output_type": "stream",
          "text": [
            "The number is not 2\n"
          ]
        }
      ],
      "source": [
        "num = 1\n",
        "if num ==2:\n",
        "  print(\"The number is 2\")\n",
        "else:\n",
        "  print(\"The number is not 2\")"
      ]
    },
    {
      "cell_type": "markdown",
      "metadata": {
        "id": "f5KgnoqnVAJd"
      },
      "source": [
        "### if-elif-else statement\n"
      ]
    },
    {
      "cell_type": "markdown",
      "metadata": {
        "id": "HoZY5_-2UbC0"
      },
      "source": [
        "#### It is a statement in which the if statement gets false,then the elif statement having a different condition can get executed, and if the elif also gets false, then the else statement gets executed."
      ]
    },
    {
      "cell_type": "code",
      "execution_count": 15,
      "metadata": {
        "colab": {
          "base_uri": "https://localhost:8080/"
        },
        "id": "HHoIHdbHUYzk",
        "outputId": "78a2baa5-9990-4e61-cd19-9cede46333b3"
      },
      "outputs": [
        {
          "name": "stdout",
          "output_type": "stream",
          "text": [
            "The number is 21\n"
          ]
        }
      ],
      "source": [
        "num = 21\n",
        "if num==10:\n",
        "  print(\"The number is 10\")\n",
        "elif(num==21):\n",
        "  print(\"The number is 21\")\n",
        "else:\n",
        "  print(\"The number is neither 10 nor 21\")"
      ]
    },
    {
      "cell_type": "markdown",
      "metadata": {
        "id": "ODpKpnxQVQV3"
      },
      "source": [
        "### Loops"
      ]
    },
    {
      "cell_type": "markdown",
      "metadata": {
        "id": "p1PGkDU3VuE3"
      },
      "source": [
        "#### They are the iterative loops in which a condition is placed, and the loop runs until it hits the condition."
      ]
    },
    {
      "cell_type": "code",
      "execution_count": 17,
      "metadata": {
        "colab": {
          "base_uri": "https://localhost:8080/"
        },
        "id": "awhogXG2U-l9",
        "outputId": "f61811e0-4890-4ab2-dbdb-75094ed34791"
      },
      "outputs": [
        {
          "data": {
            "text/plain": [
              "['apple', 'orange', 'banana', 'pineapple']"
            ]
          },
          "execution_count": 17,
          "metadata": {},
          "output_type": "execute_result"
        }
      ],
      "source": [
        "fruits= ['apple','orange','banana','pineapple']\n",
        "fruits"
      ]
    },
    {
      "cell_type": "markdown",
      "metadata": {
        "id": "pucwrH4cWzBL"
      },
      "source": [
        "While using the for loop for any data structure,. We must keep in mind that we need to take a temporary variable, as in the below code, the temporary variable is \"fruit.\" . We can take any named variable (the most common are i and j)."
      ]
    },
    {
      "cell_type": "code",
      "execution_count": 20,
      "metadata": {
        "colab": {
          "base_uri": "https://localhost:8080/"
        },
        "id": "Gzbz36ucWiP0",
        "outputId": "e632d867-c312-49f7-a776-61d62f29bc90"
      },
      "outputs": [
        {
          "name": "stdout",
          "output_type": "stream",
          "text": [
            "apple\n",
            "orange\n",
            "banana\n",
            "pineapple\n"
          ]
        }
      ],
      "source": [
        "for fruit in fruits:\n",
        "  print(fruit)"
      ]
    },
    {
      "cell_type": "markdown",
      "metadata": {
        "id": "gY1moKKKXWx6"
      },
      "source": [
        "Here, loops are of two types, i.e., with and without range. The above example is without the range used in it. as the without range for loop gives the direct values from the list in the above example.\n",
        "\n"
      ]
    },
    {
      "cell_type": "markdown",
      "metadata": {
        "id": "KvJXbDfkXspy"
      },
      "source": [
        "There is also a for loop with a range. range is nothing but the limit of how much time the loop will run."
      ]
    },
    {
      "cell_type": "code",
      "execution_count": 21,
      "metadata": {
        "colab": {
          "base_uri": "https://localhost:8080/"
        },
        "id": "fsdMBWZlWs_3",
        "outputId": "b56125a1-807e-4ca8-9bdd-ac3a0c2d7ac3"
      },
      "outputs": [
        {
          "name": "stdout",
          "output_type": "stream",
          "text": [
            "Hello Learner\n",
            "Hello Learner\n",
            "Hello Learner\n",
            "Hello Learner\n",
            "Hello Learner\n"
          ]
        }
      ],
      "source": [
        "for i in range(5):\n",
        "  print(\"Hello Learner\")"
      ]
    },
    {
      "cell_type": "markdown",
      "metadata": {
        "id": "_KOUIb_MYJS4"
      },
      "source": [
        "As here, I had given the range of 5, and the loop had run five times, printing the 'Hello Learner' five times."
      ]
    },
    {
      "cell_type": "markdown",
      "metadata": {
        "id": "XlDreGsdYcGc"
      },
      "source": [
        "### while loop\n"
      ]
    },
    {
      "cell_type": "markdown",
      "metadata": {
        "id": "G3k289XSYqv1"
      },
      "source": [
        "#### It is the same as a loop, but it is running until the defined condition is met."
      ]
    },
    {
      "cell_type": "code",
      "execution_count": 22,
      "metadata": {
        "colab": {
          "base_uri": "https://localhost:8080/"
        },
        "id": "_S5UKEhWYIXK",
        "outputId": "776ee8ad-cc46-49a8-e2c3-6804d131beb6"
      },
      "outputs": [
        {
          "name": "stdout",
          "output_type": "stream",
          "text": [
            "1\n",
            "2\n",
            "3\n",
            "4\n",
            "5\n"
          ]
        }
      ],
      "source": [
        "num = 1\n",
        "while num<=5:\n",
        "  print(num)\n",
        "  num +=1"
      ]
    },
    {
      "cell_type": "markdown",
      "metadata": {
        "id": "vYcDPJAWZFKM"
      },
      "source": [
        "As in the above example, when the while loop hits the condition of num <= 5, the loops gets breaked."
      ]
    },
    {
      "cell_type": "markdown",
      "metadata": {
        "id": "flbfdH3zZeeH"
      },
      "source": [
        "# FUNCTIONS"
      ]
    },
    {
      "cell_type": "markdown",
      "metadata": {
        "id": "eg6-2DcxZnLC"
      },
      "source": [
        "### Functions are the blocks of reusable code that perform a single task at a time."
      ]
    },
    {
      "cell_type": "code",
      "execution_count": 23,
      "metadata": {
        "id": "8FwdzDPEZEFd"
      },
      "outputs": [],
      "source": [
        "def add(num1,num2):\n",
        "  return num1+num2"
      ]
    },
    {
      "cell_type": "code",
      "execution_count": 24,
      "metadata": {
        "colab": {
          "base_uri": "https://localhost:8080/"
        },
        "id": "ZJt_gIrIaAsk",
        "outputId": "3d613ef0-9f96-42d6-adf3-076bd99ff649"
      },
      "outputs": [
        {
          "data": {
            "text/plain": [
              "5"
            ]
          },
          "execution_count": 24,
          "metadata": {},
          "output_type": "execute_result"
        }
      ],
      "source": [
        "add(2,3)"
      ]
    },
    {
      "cell_type": "markdown",
      "metadata": {
        "id": "_XoROB6_aEON"
      },
      "source": [
        "Also, in the function, we are able to keep some default parameters so that whenever any parameter is missing, it can get a constant value.\n",
        "\n"
      ]
    },
    {
      "cell_type": "code",
      "execution_count": 25,
      "metadata": {
        "colab": {
          "base_uri": "https://localhost:8080/"
        },
        "id": "E08-iFixaCZw",
        "outputId": "16461281-73a2-43e3-8cbc-729726348cdc"
      },
      "outputs": [
        {
          "data": {
            "text/plain": [
              "22"
            ]
          },
          "execution_count": 25,
          "metadata": {},
          "output_type": "execute_result"
        }
      ],
      "source": [
        "def add(num1=10,num2=12):\n",
        "  return num1+num2\n",
        "add()"
      ]
    },
    {
      "cell_type": "markdown",
      "metadata": {
        "id": "l6j3o57Zau9X"
      },
      "source": [
        "# CLASSES-OBJECT"
      ]
    },
    {
      "cell_type": "markdown",
      "metadata": {
        "id": "ms-kekvxboRY"
      },
      "source": [
        "### Classes"
      ]
    },
    {
      "cell_type": "markdown",
      "metadata": {
        "id": "sSohuLeKa284"
      },
      "source": [
        "\n",
        "\n",
        "\n",
        "\n",
        "\n",
        "\n",
        "\n",
        "\n",
        "\n",
        "\n",
        "\n",
        "\n",
        "\n",
        "\n",
        "\n",
        "\n",
        "\n",
        "\n",
        "\n",
        "\n",
        "### Classes in Python serve as blueprints for creating objects, bundling data and functionality together. Each class instance can have attributes for maintaining its state and methods for modifying that state. Objects are created from classes, allowing new instances of that type to be made. Attributes encapsulate the object's data, while methods define its behaviour, enabling manipulation of its state and the execution of specific actions.\n",
        "\n",
        "\n",
        "\n",
        "\n",
        "\n",
        "\n",
        "\n",
        "\n",
        "\n",
        "\n",
        "\n",
        "\n",
        "\n",
        "\n",
        "\n",
        "\n",
        "\n",
        "\n",
        "\n"
      ]
    },
    {
      "cell_type": "code",
      "execution_count": 26,
      "metadata": {
        "id": "K7nLRf3fadHc"
      },
      "outputs": [],
      "source": [
        "class Calculator:\n",
        "    def add(self, x, y):\n",
        "        return x + y"
      ]
    },
    {
      "cell_type": "markdown",
      "metadata": {
        "id": "X94sLHyzcKyr"
      },
      "source": [
        "### Objects"
      ]
    },
    {
      "cell_type": "markdown",
      "metadata": {
        "id": "hef7QcAfcZ-d"
      },
      "source": [
        "### In Python, objects are instances of classes. When you create a class, you're essentially defining a blueprint or template for creating objects. These objects are specific instances of the class, with their own unique attributes and methods."
      ]
    },
    {
      "cell_type": "code",
      "execution_count": 28,
      "metadata": {
        "id": "BLqdJCTmcIDF"
      },
      "outputs": [],
      "source": [
        "#Here we have created a class\n",
        "class Calculator:\n",
        "    def add(self, x, y):\n",
        "        return x + y\n",
        "\n"
      ]
    },
    {
      "cell_type": "code",
      "execution_count": 30,
      "metadata": {
        "colab": {
          "base_uri": "https://localhost:8080/"
        },
        "id": "_NZqdjoRc5PJ",
        "outputId": "9ae38be4-d186-4e5f-a440-66e577486b3e"
      },
      "outputs": [
        {
          "name": "stdout",
          "output_type": "stream",
          "text": [
            "3\n"
          ]
        }
      ],
      "source": [
        "#we are initializing the class to the object where the object will represent the class\n",
        "cal = Calculator()\n",
        "print(cal.add(1,2))"
      ]
    },
    {
      "cell_type": "markdown",
      "metadata": {
        "id": "uUhdbkCtdIuT"
      },
      "source": [
        "Here I have covered the basics of Python in the Data Science series. As in week one, we covered the basics. In the coming week, we will see about the data analysis library's."
      ]
    },
    {
      "cell_type": "markdown",
      "metadata": {
        "id": "maBN4YPtdhVo"
      },
      "source": [
        "Thank You"
      ]
    },
    {
      "cell_type": "code",
      "execution_count": null,
      "metadata": {
        "id": "XUQ27KCBdDXP"
      },
      "outputs": [],
      "source": []
    }
  ],
  "metadata": {
    "colab": {
      "provenance": []
    },
    "kernelspec": {
      "display_name": "Python 3",
      "name": "python3"
    },
    "language_info": {
      "name": "python"
    }
  },
  "nbformat": 4,
  "nbformat_minor": 0
}
